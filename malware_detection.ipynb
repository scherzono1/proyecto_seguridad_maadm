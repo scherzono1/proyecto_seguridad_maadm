{
 "cells": [
  {
   "cell_type": "code",
   "execution_count": 111,
   "id": "initial_id",
   "metadata": {
    "collapsed": true,
    "ExecuteTime": {
     "end_time": "2024-04-25T02:18:19.717883Z",
     "start_time": "2024-04-25T02:18:19.683450400Z"
    }
   },
   "outputs": [],
   "source": [
    "import pandas as pd\n",
    "import torch\n",
    "from torch.utils.data import Dataset, DataLoader, random_split\n",
    "import torch.nn as nn\n",
    "import torch.optim as optim"
   ]
  },
  {
   "cell_type": "code",
   "outputs": [],
   "source": [
    "# read the data\n",
    "data_path = 'dataset_practica/'\n",
    "good_data = pd.read_csv(data_path + '2000_goodware_2018_2020_features.csv')\n",
    "# create new column to indicate the class\n",
    "good_data['class'] = 0\n",
    "bad_data = pd.read_csv(data_path + '2000_malware_2018_2020_features.csv')\n",
    "bad_data['class'] = 1"
   ],
   "metadata": {
    "collapsed": false,
    "ExecuteTime": {
     "end_time": "2024-04-25T02:18:19.812647800Z",
     "start_time": "2024-04-25T02:18:19.707863700Z"
    }
   },
   "id": "4fc6501fd3fddbb7",
   "execution_count": 112
  },
  {
   "cell_type": "code",
   "outputs": [
    {
     "data": {
      "text/plain": "                               hash                   PackageName  \\\n0  000c6c8ef16e3793674bf1bf2cb0cfdb                 com.gf.client   \n1  8e46f1e9830d46402495c0450c489673  com.blueframetech.apexsports   \n2  b28937c14945eef354bbb893f3a97c74      com.devgame66.sniperking   \n3  07c7bc0ea194ff996c4c653b6a10432a             com.auroracoopapp   \n4  334f46c3aeb57318f7a91194cc03f407    com.artha1wides.pkbm_c_new   \n\n   min_andrversion  max_andrversion  target_andrversion  \\\n0               17                0                  27   \n1               21                0                  28   \n2               17                0                  28   \n3               26                0                  29   \n4               14                0                  28   \n\n   android.permission.ACCESS_ALL_DOWNLOADS  \\\n0                                        0   \n1                                        0   \n2                                        0   \n3                                        0   \n4                                        0   \n\n   android.permission.ACCESS_BLUETOOTH_SHARE  \\\n0                                          0   \n1                                          0   \n2                                          0   \n3                                          0   \n4                                          0   \n\n   android.permission.ACCESS_CACHE_FILESYSTEM  \\\n0                                           0   \n1                                           0   \n2                                           0   \n3                                           0   \n4                                           0   \n\n   android.permission.ACCESS_CHECKIN_PROPERTIES  \\\n0                                             0   \n1                                             0   \n2                                             0   \n3                                             0   \n4                                             0   \n\n   android.permission.ACCESS_CONTENT_PROVIDERS_EXTERNALLY  ...  TextViewCount  \\\n0                                                  0       ...              0   \n1                                                  0       ...             66   \n2                                                  0       ...             50   \n3                                                  0       ...             64   \n4                                                  0       ...             50   \n\n   EditViewCount  ImageButtonCount  CheckBoxCount  RadioGroupCount  \\\n0              0                 0              0                0   \n1              3                 3              2                2   \n2              3                 3              2                0   \n3             11                14             19                1   \n4              3                 3              3                0   \n\n   RadioButtonCount  ToastCount  SpinnerCount  ListViewCount  class  \n0                 0           0             0              0      0  \n1                 3           0            40             54      0  \n2                 3           0            37             27      0  \n3                16           0            48             54      0  \n4                 3           1            46             43      0  \n\n[5 rows x 364 columns]",
      "text/html": "<div>\n<style scoped>\n    .dataframe tbody tr th:only-of-type {\n        vertical-align: middle;\n    }\n\n    .dataframe tbody tr th {\n        vertical-align: top;\n    }\n\n    .dataframe thead th {\n        text-align: right;\n    }\n</style>\n<table border=\"1\" class=\"dataframe\">\n  <thead>\n    <tr style=\"text-align: right;\">\n      <th></th>\n      <th>hash</th>\n      <th>PackageName</th>\n      <th>min_andrversion</th>\n      <th>max_andrversion</th>\n      <th>target_andrversion</th>\n      <th>android.permission.ACCESS_ALL_DOWNLOADS</th>\n      <th>android.permission.ACCESS_BLUETOOTH_SHARE</th>\n      <th>android.permission.ACCESS_CACHE_FILESYSTEM</th>\n      <th>android.permission.ACCESS_CHECKIN_PROPERTIES</th>\n      <th>android.permission.ACCESS_CONTENT_PROVIDERS_EXTERNALLY</th>\n      <th>...</th>\n      <th>TextViewCount</th>\n      <th>EditViewCount</th>\n      <th>ImageButtonCount</th>\n      <th>CheckBoxCount</th>\n      <th>RadioGroupCount</th>\n      <th>RadioButtonCount</th>\n      <th>ToastCount</th>\n      <th>SpinnerCount</th>\n      <th>ListViewCount</th>\n      <th>class</th>\n    </tr>\n  </thead>\n  <tbody>\n    <tr>\n      <th>0</th>\n      <td>000c6c8ef16e3793674bf1bf2cb0cfdb</td>\n      <td>com.gf.client</td>\n      <td>17</td>\n      <td>0</td>\n      <td>27</td>\n      <td>0</td>\n      <td>0</td>\n      <td>0</td>\n      <td>0</td>\n      <td>0</td>\n      <td>...</td>\n      <td>0</td>\n      <td>0</td>\n      <td>0</td>\n      <td>0</td>\n      <td>0</td>\n      <td>0</td>\n      <td>0</td>\n      <td>0</td>\n      <td>0</td>\n      <td>0</td>\n    </tr>\n    <tr>\n      <th>1</th>\n      <td>8e46f1e9830d46402495c0450c489673</td>\n      <td>com.blueframetech.apexsports</td>\n      <td>21</td>\n      <td>0</td>\n      <td>28</td>\n      <td>0</td>\n      <td>0</td>\n      <td>0</td>\n      <td>0</td>\n      <td>0</td>\n      <td>...</td>\n      <td>66</td>\n      <td>3</td>\n      <td>3</td>\n      <td>2</td>\n      <td>2</td>\n      <td>3</td>\n      <td>0</td>\n      <td>40</td>\n      <td>54</td>\n      <td>0</td>\n    </tr>\n    <tr>\n      <th>2</th>\n      <td>b28937c14945eef354bbb893f3a97c74</td>\n      <td>com.devgame66.sniperking</td>\n      <td>17</td>\n      <td>0</td>\n      <td>28</td>\n      <td>0</td>\n      <td>0</td>\n      <td>0</td>\n      <td>0</td>\n      <td>0</td>\n      <td>...</td>\n      <td>50</td>\n      <td>3</td>\n      <td>3</td>\n      <td>2</td>\n      <td>0</td>\n      <td>3</td>\n      <td>0</td>\n      <td>37</td>\n      <td>27</td>\n      <td>0</td>\n    </tr>\n    <tr>\n      <th>3</th>\n      <td>07c7bc0ea194ff996c4c653b6a10432a</td>\n      <td>com.auroracoopapp</td>\n      <td>26</td>\n      <td>0</td>\n      <td>29</td>\n      <td>0</td>\n      <td>0</td>\n      <td>0</td>\n      <td>0</td>\n      <td>0</td>\n      <td>...</td>\n      <td>64</td>\n      <td>11</td>\n      <td>14</td>\n      <td>19</td>\n      <td>1</td>\n      <td>16</td>\n      <td>0</td>\n      <td>48</td>\n      <td>54</td>\n      <td>0</td>\n    </tr>\n    <tr>\n      <th>4</th>\n      <td>334f46c3aeb57318f7a91194cc03f407</td>\n      <td>com.artha1wides.pkbm_c_new</td>\n      <td>14</td>\n      <td>0</td>\n      <td>28</td>\n      <td>0</td>\n      <td>0</td>\n      <td>0</td>\n      <td>0</td>\n      <td>0</td>\n      <td>...</td>\n      <td>50</td>\n      <td>3</td>\n      <td>3</td>\n      <td>3</td>\n      <td>0</td>\n      <td>3</td>\n      <td>1</td>\n      <td>46</td>\n      <td>43</td>\n      <td>0</td>\n    </tr>\n  </tbody>\n</table>\n<p>5 rows × 364 columns</p>\n</div>"
     },
     "execution_count": 113,
     "metadata": {},
     "output_type": "execute_result"
    }
   ],
   "source": [
    "good_data.head()"
   ],
   "metadata": {
    "collapsed": false,
    "ExecuteTime": {
     "end_time": "2024-04-25T02:18:19.839885100Z",
     "start_time": "2024-04-25T02:18:19.806643500Z"
    }
   },
   "id": "d839a9715da61767",
   "execution_count": 113
  },
  {
   "cell_type": "code",
   "outputs": [
    {
     "data": {
      "text/plain": "                               hash                        PackageName  \\\n0  367a147343eb9af9c94cddab76d7c246            com.qimacode.signmaster   \n1  f23bf535a96d1ccc5289749069592f42                 com.wanimal.travel   \n2  e162763edf3c9ef1071997916e0f6c32                 com.proxy.cctv28_9   \n3  3603035190703aac2851e5c8391e302c  com.proguard.camera.fabric.beauty   \n4  483b8c48184410151a4089e9101a2429        com.hopeway.cam.p2pcamplus3   \n\n   min_andrversion  max_andrversion  target_andrversion  \\\n0               16                0                  28   \n1               19                0                  28   \n2               17                0                  28   \n3               16                0                  26   \n4               16                0                  28   \n\n   android.permission.ACCESS_ALL_DOWNLOADS  \\\n0                                        0   \n1                                        0   \n2                                        0   \n3                                        0   \n4                                        0   \n\n   android.permission.ACCESS_BLUETOOTH_SHARE  \\\n0                                          0   \n1                                          0   \n2                                          0   \n3                                          0   \n4                                          0   \n\n   android.permission.ACCESS_CACHE_FILESYSTEM  \\\n0                                           0   \n1                                           0   \n2                                           0   \n3                                           0   \n4                                           0   \n\n   android.permission.ACCESS_CHECKIN_PROPERTIES  \\\n0                                             0   \n1                                             0   \n2                                             0   \n3                                             0   \n4                                             0   \n\n   android.permission.ACCESS_CONTENT_PROVIDERS_EXTERNALLY  ...  TextViewCount  \\\n0                                                  0       ...              0   \n1                                                  0       ...              0   \n2                                                  0       ...              0   \n3                                                  0       ...              0   \n4                                                  0       ...              0   \n\n   EditViewCount  ImageButtonCount  CheckBoxCount  RadioGroupCount  \\\n0              0                 0              0                0   \n1              0                 0              0                0   \n2              0                 0              0                0   \n3              0                 0              0                0   \n4              0                 0              0                0   \n\n   RadioButtonCount  ToastCount  SpinnerCount  ListViewCount  class  \n0                 0           0             0              0      1  \n1                 0           0             0              0      1  \n2                 0           0             0              0      1  \n3                 0           0             0              0      1  \n4                 0           0             0              0      1  \n\n[5 rows x 364 columns]",
      "text/html": "<div>\n<style scoped>\n    .dataframe tbody tr th:only-of-type {\n        vertical-align: middle;\n    }\n\n    .dataframe tbody tr th {\n        vertical-align: top;\n    }\n\n    .dataframe thead th {\n        text-align: right;\n    }\n</style>\n<table border=\"1\" class=\"dataframe\">\n  <thead>\n    <tr style=\"text-align: right;\">\n      <th></th>\n      <th>hash</th>\n      <th>PackageName</th>\n      <th>min_andrversion</th>\n      <th>max_andrversion</th>\n      <th>target_andrversion</th>\n      <th>android.permission.ACCESS_ALL_DOWNLOADS</th>\n      <th>android.permission.ACCESS_BLUETOOTH_SHARE</th>\n      <th>android.permission.ACCESS_CACHE_FILESYSTEM</th>\n      <th>android.permission.ACCESS_CHECKIN_PROPERTIES</th>\n      <th>android.permission.ACCESS_CONTENT_PROVIDERS_EXTERNALLY</th>\n      <th>...</th>\n      <th>TextViewCount</th>\n      <th>EditViewCount</th>\n      <th>ImageButtonCount</th>\n      <th>CheckBoxCount</th>\n      <th>RadioGroupCount</th>\n      <th>RadioButtonCount</th>\n      <th>ToastCount</th>\n      <th>SpinnerCount</th>\n      <th>ListViewCount</th>\n      <th>class</th>\n    </tr>\n  </thead>\n  <tbody>\n    <tr>\n      <th>0</th>\n      <td>367a147343eb9af9c94cddab76d7c246</td>\n      <td>com.qimacode.signmaster</td>\n      <td>16</td>\n      <td>0</td>\n      <td>28</td>\n      <td>0</td>\n      <td>0</td>\n      <td>0</td>\n      <td>0</td>\n      <td>0</td>\n      <td>...</td>\n      <td>0</td>\n      <td>0</td>\n      <td>0</td>\n      <td>0</td>\n      <td>0</td>\n      <td>0</td>\n      <td>0</td>\n      <td>0</td>\n      <td>0</td>\n      <td>1</td>\n    </tr>\n    <tr>\n      <th>1</th>\n      <td>f23bf535a96d1ccc5289749069592f42</td>\n      <td>com.wanimal.travel</td>\n      <td>19</td>\n      <td>0</td>\n      <td>28</td>\n      <td>0</td>\n      <td>0</td>\n      <td>0</td>\n      <td>0</td>\n      <td>0</td>\n      <td>...</td>\n      <td>0</td>\n      <td>0</td>\n      <td>0</td>\n      <td>0</td>\n      <td>0</td>\n      <td>0</td>\n      <td>0</td>\n      <td>0</td>\n      <td>0</td>\n      <td>1</td>\n    </tr>\n    <tr>\n      <th>2</th>\n      <td>e162763edf3c9ef1071997916e0f6c32</td>\n      <td>com.proxy.cctv28_9</td>\n      <td>17</td>\n      <td>0</td>\n      <td>28</td>\n      <td>0</td>\n      <td>0</td>\n      <td>0</td>\n      <td>0</td>\n      <td>0</td>\n      <td>...</td>\n      <td>0</td>\n      <td>0</td>\n      <td>0</td>\n      <td>0</td>\n      <td>0</td>\n      <td>0</td>\n      <td>0</td>\n      <td>0</td>\n      <td>0</td>\n      <td>1</td>\n    </tr>\n    <tr>\n      <th>3</th>\n      <td>3603035190703aac2851e5c8391e302c</td>\n      <td>com.proguard.camera.fabric.beauty</td>\n      <td>16</td>\n      <td>0</td>\n      <td>26</td>\n      <td>0</td>\n      <td>0</td>\n      <td>0</td>\n      <td>0</td>\n      <td>0</td>\n      <td>...</td>\n      <td>0</td>\n      <td>0</td>\n      <td>0</td>\n      <td>0</td>\n      <td>0</td>\n      <td>0</td>\n      <td>0</td>\n      <td>0</td>\n      <td>0</td>\n      <td>1</td>\n    </tr>\n    <tr>\n      <th>4</th>\n      <td>483b8c48184410151a4089e9101a2429</td>\n      <td>com.hopeway.cam.p2pcamplus3</td>\n      <td>16</td>\n      <td>0</td>\n      <td>28</td>\n      <td>0</td>\n      <td>0</td>\n      <td>0</td>\n      <td>0</td>\n      <td>0</td>\n      <td>...</td>\n      <td>0</td>\n      <td>0</td>\n      <td>0</td>\n      <td>0</td>\n      <td>0</td>\n      <td>0</td>\n      <td>0</td>\n      <td>0</td>\n      <td>0</td>\n      <td>1</td>\n    </tr>\n  </tbody>\n</table>\n<p>5 rows × 364 columns</p>\n</div>"
     },
     "execution_count": 114,
     "metadata": {},
     "output_type": "execute_result"
    }
   ],
   "source": [
    "bad_data.head()"
   ],
   "metadata": {
    "collapsed": false,
    "ExecuteTime": {
     "end_time": "2024-04-25T02:18:19.857215500Z",
     "start_time": "2024-04-25T02:18:19.822353Z"
    }
   },
   "id": "b004a6eb7dfc4ed",
   "execution_count": 114
  },
  {
   "cell_type": "code",
   "outputs": [],
   "source": [
    "# mix all data into one\n",
    "data = pd.concat([good_data, bad_data], axis=0)"
   ],
   "metadata": {
    "collapsed": false,
    "ExecuteTime": {
     "end_time": "2024-04-25T02:18:19.925356400Z",
     "start_time": "2024-04-25T02:18:19.838884100Z"
    }
   },
   "id": "65d7f818fd6f6360",
   "execution_count": 115
  },
  {
   "cell_type": "code",
   "outputs": [
    {
     "data": {
      "text/plain": "                               hash                   PackageName  \\\n0  000c6c8ef16e3793674bf1bf2cb0cfdb                 com.gf.client   \n1  8e46f1e9830d46402495c0450c489673  com.blueframetech.apexsports   \n2  b28937c14945eef354bbb893f3a97c74      com.devgame66.sniperking   \n3  07c7bc0ea194ff996c4c653b6a10432a             com.auroracoopapp   \n4  334f46c3aeb57318f7a91194cc03f407    com.artha1wides.pkbm_c_new   \n\n   min_andrversion  max_andrversion  target_andrversion  \\\n0               17                0                  27   \n1               21                0                  28   \n2               17                0                  28   \n3               26                0                  29   \n4               14                0                  28   \n\n   android.permission.ACCESS_ALL_DOWNLOADS  \\\n0                                        0   \n1                                        0   \n2                                        0   \n3                                        0   \n4                                        0   \n\n   android.permission.ACCESS_BLUETOOTH_SHARE  \\\n0                                          0   \n1                                          0   \n2                                          0   \n3                                          0   \n4                                          0   \n\n   android.permission.ACCESS_CACHE_FILESYSTEM  \\\n0                                           0   \n1                                           0   \n2                                           0   \n3                                           0   \n4                                           0   \n\n   android.permission.ACCESS_CHECKIN_PROPERTIES  \\\n0                                             0   \n1                                             0   \n2                                             0   \n3                                             0   \n4                                             0   \n\n   android.permission.ACCESS_CONTENT_PROVIDERS_EXTERNALLY  ...  TextViewCount  \\\n0                                                  0       ...              0   \n1                                                  0       ...             66   \n2                                                  0       ...             50   \n3                                                  0       ...             64   \n4                                                  0       ...             50   \n\n   EditViewCount  ImageButtonCount  CheckBoxCount  RadioGroupCount  \\\n0              0                 0              0                0   \n1              3                 3              2                2   \n2              3                 3              2                0   \n3             11                14             19                1   \n4              3                 3              3                0   \n\n   RadioButtonCount  ToastCount  SpinnerCount  ListViewCount  class  \n0                 0           0             0              0      0  \n1                 3           0            40             54      0  \n2                 3           0            37             27      0  \n3                16           0            48             54      0  \n4                 3           1            46             43      0  \n\n[5 rows x 364 columns]",
      "text/html": "<div>\n<style scoped>\n    .dataframe tbody tr th:only-of-type {\n        vertical-align: middle;\n    }\n\n    .dataframe tbody tr th {\n        vertical-align: top;\n    }\n\n    .dataframe thead th {\n        text-align: right;\n    }\n</style>\n<table border=\"1\" class=\"dataframe\">\n  <thead>\n    <tr style=\"text-align: right;\">\n      <th></th>\n      <th>hash</th>\n      <th>PackageName</th>\n      <th>min_andrversion</th>\n      <th>max_andrversion</th>\n      <th>target_andrversion</th>\n      <th>android.permission.ACCESS_ALL_DOWNLOADS</th>\n      <th>android.permission.ACCESS_BLUETOOTH_SHARE</th>\n      <th>android.permission.ACCESS_CACHE_FILESYSTEM</th>\n      <th>android.permission.ACCESS_CHECKIN_PROPERTIES</th>\n      <th>android.permission.ACCESS_CONTENT_PROVIDERS_EXTERNALLY</th>\n      <th>...</th>\n      <th>TextViewCount</th>\n      <th>EditViewCount</th>\n      <th>ImageButtonCount</th>\n      <th>CheckBoxCount</th>\n      <th>RadioGroupCount</th>\n      <th>RadioButtonCount</th>\n      <th>ToastCount</th>\n      <th>SpinnerCount</th>\n      <th>ListViewCount</th>\n      <th>class</th>\n    </tr>\n  </thead>\n  <tbody>\n    <tr>\n      <th>0</th>\n      <td>000c6c8ef16e3793674bf1bf2cb0cfdb</td>\n      <td>com.gf.client</td>\n      <td>17</td>\n      <td>0</td>\n      <td>27</td>\n      <td>0</td>\n      <td>0</td>\n      <td>0</td>\n      <td>0</td>\n      <td>0</td>\n      <td>...</td>\n      <td>0</td>\n      <td>0</td>\n      <td>0</td>\n      <td>0</td>\n      <td>0</td>\n      <td>0</td>\n      <td>0</td>\n      <td>0</td>\n      <td>0</td>\n      <td>0</td>\n    </tr>\n    <tr>\n      <th>1</th>\n      <td>8e46f1e9830d46402495c0450c489673</td>\n      <td>com.blueframetech.apexsports</td>\n      <td>21</td>\n      <td>0</td>\n      <td>28</td>\n      <td>0</td>\n      <td>0</td>\n      <td>0</td>\n      <td>0</td>\n      <td>0</td>\n      <td>...</td>\n      <td>66</td>\n      <td>3</td>\n      <td>3</td>\n      <td>2</td>\n      <td>2</td>\n      <td>3</td>\n      <td>0</td>\n      <td>40</td>\n      <td>54</td>\n      <td>0</td>\n    </tr>\n    <tr>\n      <th>2</th>\n      <td>b28937c14945eef354bbb893f3a97c74</td>\n      <td>com.devgame66.sniperking</td>\n      <td>17</td>\n      <td>0</td>\n      <td>28</td>\n      <td>0</td>\n      <td>0</td>\n      <td>0</td>\n      <td>0</td>\n      <td>0</td>\n      <td>...</td>\n      <td>50</td>\n      <td>3</td>\n      <td>3</td>\n      <td>2</td>\n      <td>0</td>\n      <td>3</td>\n      <td>0</td>\n      <td>37</td>\n      <td>27</td>\n      <td>0</td>\n    </tr>\n    <tr>\n      <th>3</th>\n      <td>07c7bc0ea194ff996c4c653b6a10432a</td>\n      <td>com.auroracoopapp</td>\n      <td>26</td>\n      <td>0</td>\n      <td>29</td>\n      <td>0</td>\n      <td>0</td>\n      <td>0</td>\n      <td>0</td>\n      <td>0</td>\n      <td>...</td>\n      <td>64</td>\n      <td>11</td>\n      <td>14</td>\n      <td>19</td>\n      <td>1</td>\n      <td>16</td>\n      <td>0</td>\n      <td>48</td>\n      <td>54</td>\n      <td>0</td>\n    </tr>\n    <tr>\n      <th>4</th>\n      <td>334f46c3aeb57318f7a91194cc03f407</td>\n      <td>com.artha1wides.pkbm_c_new</td>\n      <td>14</td>\n      <td>0</td>\n      <td>28</td>\n      <td>0</td>\n      <td>0</td>\n      <td>0</td>\n      <td>0</td>\n      <td>0</td>\n      <td>...</td>\n      <td>50</td>\n      <td>3</td>\n      <td>3</td>\n      <td>3</td>\n      <td>0</td>\n      <td>3</td>\n      <td>1</td>\n      <td>46</td>\n      <td>43</td>\n      <td>0</td>\n    </tr>\n  </tbody>\n</table>\n<p>5 rows × 364 columns</p>\n</div>"
     },
     "execution_count": 116,
     "metadata": {},
     "output_type": "execute_result"
    }
   ],
   "source": [
    "data.head()"
   ],
   "metadata": {
    "collapsed": false,
    "ExecuteTime": {
     "end_time": "2024-04-25T02:18:19.962441100Z",
     "start_time": "2024-04-25T02:18:19.852628700Z"
    }
   },
   "id": "7c9406883f17dbff",
   "execution_count": 116
  },
  {
   "cell_type": "code",
   "outputs": [],
   "source": [
    "# check which columns are numerical and make a list of them\n",
    "numerical_columns = data.select_dtypes(include=['float64', 'int64']).columns\n",
    "# keep only the numerical columns\n",
    "data = data[numerical_columns]"
   ],
   "metadata": {
    "collapsed": false,
    "ExecuteTime": {
     "end_time": "2024-04-25T02:18:19.963441800Z",
     "start_time": "2024-04-25T02:18:19.868711Z"
    }
   },
   "id": "d0e4a4ec5db6a59c",
   "execution_count": 117
  },
  {
   "cell_type": "code",
   "outputs": [
    {
     "data": {
      "text/plain": "   min_andrversion  max_andrversion  target_andrversion  \\\n0               17                0                  27   \n1               21                0                  28   \n2               17                0                  28   \n3               26                0                  29   \n4               14                0                  28   \n\n   android.permission.ACCESS_ALL_DOWNLOADS  \\\n0                                        0   \n1                                        0   \n2                                        0   \n3                                        0   \n4                                        0   \n\n   android.permission.ACCESS_BLUETOOTH_SHARE  \\\n0                                          0   \n1                                          0   \n2                                          0   \n3                                          0   \n4                                          0   \n\n   android.permission.ACCESS_CACHE_FILESYSTEM  \\\n0                                           0   \n1                                           0   \n2                                           0   \n3                                           0   \n4                                           0   \n\n   android.permission.ACCESS_CHECKIN_PROPERTIES  \\\n0                                             0   \n1                                             0   \n2                                             0   \n3                                             0   \n4                                             0   \n\n   android.permission.ACCESS_CONTENT_PROVIDERS_EXTERNALLY  \\\n0                                                  0        \n1                                                  0        \n2                                                  0        \n3                                                  0        \n4                                                  0        \n\n   android.permission.ACCESS_DOWNLOAD_MANAGER  \\\n0                                           1   \n1                                           0   \n2                                           0   \n3                                           0   \n4                                           0   \n\n   android.permission.ACCESS_DOWNLOAD_MANAGER_ADVANCED  ...  TextViewCount  \\\n0                                                  0    ...              0   \n1                                                  0    ...             66   \n2                                                  0    ...             50   \n3                                                  0    ...             64   \n4                                                  0    ...             50   \n\n   EditViewCount  ImageButtonCount  CheckBoxCount  RadioGroupCount  \\\n0              0                 0              0                0   \n1              3                 3              2                2   \n2              3                 3              2                0   \n3             11                14             19                1   \n4              3                 3              3                0   \n\n   RadioButtonCount  ToastCount  SpinnerCount  ListViewCount  class  \n0                 0           0             0              0      0  \n1                 3           0            40             54      0  \n2                 3           0            37             27      0  \n3                16           0            48             54      0  \n4                 3           1            46             43      0  \n\n[5 rows x 362 columns]",
      "text/html": "<div>\n<style scoped>\n    .dataframe tbody tr th:only-of-type {\n        vertical-align: middle;\n    }\n\n    .dataframe tbody tr th {\n        vertical-align: top;\n    }\n\n    .dataframe thead th {\n        text-align: right;\n    }\n</style>\n<table border=\"1\" class=\"dataframe\">\n  <thead>\n    <tr style=\"text-align: right;\">\n      <th></th>\n      <th>min_andrversion</th>\n      <th>max_andrversion</th>\n      <th>target_andrversion</th>\n      <th>android.permission.ACCESS_ALL_DOWNLOADS</th>\n      <th>android.permission.ACCESS_BLUETOOTH_SHARE</th>\n      <th>android.permission.ACCESS_CACHE_FILESYSTEM</th>\n      <th>android.permission.ACCESS_CHECKIN_PROPERTIES</th>\n      <th>android.permission.ACCESS_CONTENT_PROVIDERS_EXTERNALLY</th>\n      <th>android.permission.ACCESS_DOWNLOAD_MANAGER</th>\n      <th>android.permission.ACCESS_DOWNLOAD_MANAGER_ADVANCED</th>\n      <th>...</th>\n      <th>TextViewCount</th>\n      <th>EditViewCount</th>\n      <th>ImageButtonCount</th>\n      <th>CheckBoxCount</th>\n      <th>RadioGroupCount</th>\n      <th>RadioButtonCount</th>\n      <th>ToastCount</th>\n      <th>SpinnerCount</th>\n      <th>ListViewCount</th>\n      <th>class</th>\n    </tr>\n  </thead>\n  <tbody>\n    <tr>\n      <th>0</th>\n      <td>17</td>\n      <td>0</td>\n      <td>27</td>\n      <td>0</td>\n      <td>0</td>\n      <td>0</td>\n      <td>0</td>\n      <td>0</td>\n      <td>1</td>\n      <td>0</td>\n      <td>...</td>\n      <td>0</td>\n      <td>0</td>\n      <td>0</td>\n      <td>0</td>\n      <td>0</td>\n      <td>0</td>\n      <td>0</td>\n      <td>0</td>\n      <td>0</td>\n      <td>0</td>\n    </tr>\n    <tr>\n      <th>1</th>\n      <td>21</td>\n      <td>0</td>\n      <td>28</td>\n      <td>0</td>\n      <td>0</td>\n      <td>0</td>\n      <td>0</td>\n      <td>0</td>\n      <td>0</td>\n      <td>0</td>\n      <td>...</td>\n      <td>66</td>\n      <td>3</td>\n      <td>3</td>\n      <td>2</td>\n      <td>2</td>\n      <td>3</td>\n      <td>0</td>\n      <td>40</td>\n      <td>54</td>\n      <td>0</td>\n    </tr>\n    <tr>\n      <th>2</th>\n      <td>17</td>\n      <td>0</td>\n      <td>28</td>\n      <td>0</td>\n      <td>0</td>\n      <td>0</td>\n      <td>0</td>\n      <td>0</td>\n      <td>0</td>\n      <td>0</td>\n      <td>...</td>\n      <td>50</td>\n      <td>3</td>\n      <td>3</td>\n      <td>2</td>\n      <td>0</td>\n      <td>3</td>\n      <td>0</td>\n      <td>37</td>\n      <td>27</td>\n      <td>0</td>\n    </tr>\n    <tr>\n      <th>3</th>\n      <td>26</td>\n      <td>0</td>\n      <td>29</td>\n      <td>0</td>\n      <td>0</td>\n      <td>0</td>\n      <td>0</td>\n      <td>0</td>\n      <td>0</td>\n      <td>0</td>\n      <td>...</td>\n      <td>64</td>\n      <td>11</td>\n      <td>14</td>\n      <td>19</td>\n      <td>1</td>\n      <td>16</td>\n      <td>0</td>\n      <td>48</td>\n      <td>54</td>\n      <td>0</td>\n    </tr>\n    <tr>\n      <th>4</th>\n      <td>14</td>\n      <td>0</td>\n      <td>28</td>\n      <td>0</td>\n      <td>0</td>\n      <td>0</td>\n      <td>0</td>\n      <td>0</td>\n      <td>0</td>\n      <td>0</td>\n      <td>...</td>\n      <td>50</td>\n      <td>3</td>\n      <td>3</td>\n      <td>3</td>\n      <td>0</td>\n      <td>3</td>\n      <td>1</td>\n      <td>46</td>\n      <td>43</td>\n      <td>0</td>\n    </tr>\n  </tbody>\n</table>\n<p>5 rows × 362 columns</p>\n</div>"
     },
     "execution_count": 118,
     "metadata": {},
     "output_type": "execute_result"
    }
   ],
   "source": [
    "data.head()"
   ],
   "metadata": {
    "collapsed": false,
    "ExecuteTime": {
     "end_time": "2024-04-25T02:18:19.988969300Z",
     "start_time": "2024-04-25T02:18:19.900243900Z"
    }
   },
   "id": "345f1543e898f0a9",
   "execution_count": 118
  },
  {
   "cell_type": "code",
   "outputs": [],
   "source": [
    "device = 'cuda'"
   ],
   "metadata": {
    "collapsed": false,
    "ExecuteTime": {
     "end_time": "2024-04-25T02:18:20.051147200Z",
     "start_time": "2024-04-25T02:18:19.916349100Z"
    }
   },
   "id": "bf0467185d705e96",
   "execution_count": 119
  },
  {
   "cell_type": "code",
   "outputs": [],
   "source": [
    "features_df = data.iloc[:, :-1]  \n",
    "labels_df = data.iloc[:, -1]"
   ],
   "metadata": {
    "collapsed": false,
    "ExecuteTime": {
     "end_time": "2024-04-25T02:18:20.052149900Z",
     "start_time": "2024-04-25T02:18:19.932375800Z"
    }
   },
   "id": "b9a6637ac21247ff",
   "execution_count": 120
  },
  {
   "cell_type": "code",
   "outputs": [],
   "source": [
    "# Convert to PyTorch tensors\n",
    "features = torch.tensor(features_df.values).float()\n",
    "labels = torch.tensor(labels_df.values).long()\n",
    "\n",
    "# Move to GPU\n",
    "features = features.to(device)\n",
    "labels = labels.to(device)"
   ],
   "metadata": {
    "collapsed": false,
    "ExecuteTime": {
     "end_time": "2024-04-25T02:18:20.055652600Z",
     "start_time": "2024-04-25T02:18:19.951929300Z"
    }
   },
   "id": "a6f63f0a784f0003",
   "execution_count": 121
  },
  {
   "cell_type": "code",
   "outputs": [],
   "source": [
    "class MalwareDataset(Dataset):\n",
    "    def __init__(self, features, labels):\n",
    "        self.features = features\n",
    "        self.labels = labels\n",
    "\n",
    "    def __len__(self):\n",
    "        return len(self.labels)\n",
    "\n",
    "    def __getitem__(self, idx):\n",
    "        return self.features[idx], self.labels[idx]"
   ],
   "metadata": {
    "collapsed": false,
    "ExecuteTime": {
     "end_time": "2024-04-25T02:18:20.131258700Z",
     "start_time": "2024-04-25T02:18:19.966951700Z"
    }
   },
   "id": "9177e1014e90b47e",
   "execution_count": 122
  },
  {
   "cell_type": "code",
   "outputs": [],
   "source": [
    "# Instantiate the dataset\n",
    "dataset = MalwareDataset(features, labels)"
   ],
   "metadata": {
    "collapsed": false,
    "ExecuteTime": {
     "end_time": "2024-04-25T02:18:20.133258Z",
     "start_time": "2024-04-25T02:18:19.980462Z"
    }
   },
   "id": "719c70a784c71702",
   "execution_count": 123
  },
  {
   "cell_type": "code",
   "outputs": [],
   "source": [
    "# Split the dataset (80% train, 10% validation, 10% test)\n",
    "train_size = int(0.8 * len(dataset))\n",
    "val_size = int(0.1 * len(dataset))\n",
    "test_size = len(dataset) - train_size - val_size\n",
    "train_dataset, val_dataset, test_dataset = random_split(dataset, [train_size, val_size, test_size])"
   ],
   "metadata": {
    "collapsed": false,
    "ExecuteTime": {
     "end_time": "2024-04-25T02:18:20.209366500Z",
     "start_time": "2024-04-25T02:18:19.997488700Z"
    }
   },
   "id": "e9361391c1f31389",
   "execution_count": 124
  },
  {
   "cell_type": "code",
   "outputs": [],
   "source": [
    "# DataLoader setup\n",
    "batch_size = 64\n",
    "train_loader = DataLoader(train_dataset, batch_size=batch_size, shuffle=True)\n",
    "val_loader = DataLoader(val_dataset, batch_size=batch_size, shuffle=False)\n",
    "test_loader = DataLoader(test_dataset, batch_size=batch_size, shuffle=False)"
   ],
   "metadata": {
    "collapsed": false,
    "ExecuteTime": {
     "end_time": "2024-04-25T02:18:20.223277Z",
     "start_time": "2024-04-25T02:18:20.012554300Z"
    }
   },
   "id": "af9ac045c18ad97e",
   "execution_count": 125
  },
  {
   "cell_type": "code",
   "outputs": [],
   "source": [
    "class MalwareClassifier(nn.Module):\n",
    "    def __init__(self):\n",
    "        super(MalwareClassifier, self).__init__()\n",
    "        self.network = nn.Sequential(\n",
    "            nn.Linear(features.shape[1], 256),\n",
    "            nn.ReLU(),\n",
    "            nn.BatchNorm1d(256),                \n",
    "            nn.Dropout(0.5),                   \n",
    "\n",
    "            nn.Linear(256, 128),              \n",
    "            nn.ReLU(),\n",
    "            nn.BatchNorm1d(128),             \n",
    "            nn.Dropout(0.3),\n",
    "\n",
    "            nn.Linear(128, 64),\n",
    "            nn.ReLU(),\n",
    "            nn.BatchNorm1d(64),\n",
    "            nn.Dropout(0.2),\n",
    "\n",
    "            nn.Linear(64, 1),\n",
    "            nn.Sigmoid()\n",
    "        )\n",
    "\n",
    "    def forward(self, x):\n",
    "        return self.network(x)\n",
    "\n",
    "# Model instantiation\n",
    "model = MalwareClassifier()\n",
    "model = model.to(device)"
   ],
   "metadata": {
    "collapsed": false,
    "ExecuteTime": {
     "end_time": "2024-04-25T02:18:20.224277Z",
     "start_time": "2024-04-25T02:18:20.031125500Z"
    }
   },
   "id": "def01935fa9593d9",
   "execution_count": 126
  },
  {
   "cell_type": "code",
   "outputs": [],
   "source": [
    "criterion = nn.BCELoss()\n",
    "optimizer = optim.Adam(model.parameters(), lr=0.001)"
   ],
   "metadata": {
    "collapsed": false,
    "ExecuteTime": {
     "end_time": "2024-04-25T02:18:20.226790400Z",
     "start_time": "2024-04-25T02:18:20.043635200Z"
    }
   },
   "id": "854f1036e80ef3c3",
   "execution_count": 127
  },
  {
   "cell_type": "code",
   "outputs": [],
   "source": [
    "class EarlyStopping:\n",
    "    def __init__(self, patience=5, min_delta=0):\n",
    "        \"\"\"\n",
    "        Args:\n",
    "            patience (int): How many epochs to wait after last time validation loss improved.\n",
    "                            Default: 5\n",
    "            min_delta (float): Minimum change in the monitored quantity to qualify as an improvement.\n",
    "                               Default: 0\n",
    "        \"\"\"\n",
    "        self.patience = patience\n",
    "        self.min_delta = min_delta\n",
    "        self.counter = 0\n",
    "        self.best_loss = None\n",
    "        self.early_stop = False\n",
    "\n",
    "    def __call__(self, val_loss):\n",
    "        if self.best_loss is None:\n",
    "            self.best_loss = val_loss\n",
    "        elif val_loss > self.best_loss - self.min_delta:\n",
    "            self.counter += 1\n",
    "            print(f'EarlyStopping counter: {self.counter} out of {self.patience}')\n",
    "            if self.counter >= self.patience:\n",
    "                self.early_stop = True\n",
    "        else:\n",
    "            self.best_loss = val_loss\n",
    "            self.counter = 0"
   ],
   "metadata": {
    "collapsed": false,
    "ExecuteTime": {
     "end_time": "2024-04-25T02:18:20.226790400Z",
     "start_time": "2024-04-25T02:18:20.060662Z"
    }
   },
   "id": "b966d853d0adc61a",
   "execution_count": 128
  },
  {
   "cell_type": "code",
   "outputs": [],
   "source": [
    "# Initialize EarlyStopping object\n",
    "early_stopping = EarlyStopping(patience=5, min_delta=0.01)"
   ],
   "metadata": {
    "collapsed": false,
    "ExecuteTime": {
     "end_time": "2024-04-25T02:18:20.227790900Z",
     "start_time": "2024-04-25T02:18:20.074170100Z"
    }
   },
   "id": "1f2d70907ab19b59",
   "execution_count": 129
  },
  {
   "cell_type": "code",
   "outputs": [],
   "source": [
    "# Training function\n",
    "def train_epoch(model, dataloader, criterion, optimizer):\n",
    "    model.train()\n",
    "    running_loss = 0.0\n",
    "    for inputs, labels in dataloader:\n",
    "        optimizer.zero_grad()\n",
    "        outputs = model(inputs)\n",
    "        loss = criterion(outputs.squeeze(), labels.float())\n",
    "        loss.backward()\n",
    "        optimizer.step()\n",
    "        running_loss += loss.item() * inputs.size(0)\n",
    "    epoch_loss = running_loss / len(dataloader.dataset)\n",
    "    return epoch_loss\n",
    "\n",
    "# Validation function\n",
    "def validate_epoch(model, dataloader, criterion):\n",
    "    model.eval()\n",
    "    running_loss = 0.0\n",
    "    with torch.no_grad():\n",
    "        for inputs, labels in dataloader:\n",
    "            outputs = model(inputs)\n",
    "            loss = criterion(outputs.squeeze(), labels.float())\n",
    "            running_loss += loss.item() * inputs.size(0)\n",
    "    epoch_loss = running_loss / len(dataloader.dataset)\n",
    "    return epoch_loss"
   ],
   "metadata": {
    "collapsed": false,
    "ExecuteTime": {
     "end_time": "2024-04-25T02:18:20.228787700Z",
     "start_time": "2024-04-25T02:18:20.093190100Z"
    }
   },
   "id": "65c49366b7ac4f72",
   "execution_count": 130
  },
  {
   "cell_type": "code",
   "outputs": [
    {
     "name": "stdout",
     "output_type": "stream",
     "text": [
      "Epoch 1: Train Loss: 0.2748, Validation Loss: 0.2059\n",
      "Epoch 2: Train Loss: 0.2260, Validation Loss: 0.1947\n",
      "Epoch 3: Train Loss: 0.2234, Validation Loss: 0.1902\n",
      "EarlyStopping counter: 1 out of 5\n",
      "Epoch 4: Train Loss: 0.2257, Validation Loss: 0.1881\n",
      "EarlyStopping counter: 2 out of 5\n",
      "Epoch 5: Train Loss: 0.2129, Validation Loss: 0.1824\n",
      "Epoch 6: Train Loss: 0.2090, Validation Loss: 0.1751\n",
      "EarlyStopping counter: 1 out of 5\n",
      "Epoch 7: Train Loss: 0.2012, Validation Loss: 0.1819\n",
      "EarlyStopping counter: 2 out of 5\n",
      "Epoch 8: Train Loss: 0.1965, Validation Loss: 0.1712\n",
      "Epoch 9: Train Loss: 0.2016, Validation Loss: 0.1776\n",
      "EarlyStopping counter: 1 out of 5\n",
      "Epoch 10: Train Loss: 0.2044, Validation Loss: 0.2056\n",
      "EarlyStopping counter: 2 out of 5\n",
      "Epoch 11: Train Loss: 0.1975, Validation Loss: 0.2534\n",
      "EarlyStopping counter: 3 out of 5\n",
      "Epoch 12: Train Loss: 0.2083, Validation Loss: 0.2544\n",
      "EarlyStopping counter: 4 out of 5\n",
      "Epoch 13: Train Loss: 0.1934, Validation Loss: 0.2545\n",
      "EarlyStopping counter: 5 out of 5\n",
      "Early stopping triggered\n"
     ]
    }
   ],
   "source": [
    "# Training and validation loops with early stopping\n",
    "num_epochs = 2000\n",
    "for epoch in range(num_epochs):\n",
    "    train_loss = train_epoch(model, train_loader, criterion, optimizer)\n",
    "    val_loss = validate_epoch(model, val_loader, criterion)\n",
    "    print(f'Epoch {epoch+1}: Train Loss: {train_loss:.4f}, Validation Loss: {val_loss:.4f}')\n",
    "\n",
    "    # Call early stopping\n",
    "    early_stopping(val_loss)\n",
    "    if early_stopping.early_stop:\n",
    "        print(\"Early stopping triggered\")\n",
    "        break"
   ],
   "metadata": {
    "collapsed": false,
    "ExecuteTime": {
     "end_time": "2024-04-25T02:18:22.935235500Z",
     "start_time": "2024-04-25T02:18:20.107210500Z"
    }
   },
   "id": "e0b15f7a917fec12",
   "execution_count": 131
  },
  {
   "cell_type": "code",
   "outputs": [],
   "source": [
    "def evaluate_performance(model, dataloader):\n",
    "    model.eval()\n",
    "    correct = 0\n",
    "    total = 0\n",
    "    false_positives = 0\n",
    "    false_negatives = 0\n",
    "    true_positives = 0\n",
    "    true_negatives = 0\n",
    "\n",
    "    with torch.no_grad():\n",
    "        for inputs, labels in dataloader:\n",
    "            outputs = model(inputs)\n",
    "            predicted = outputs.round().squeeze()\n",
    "\n",
    "            correct += (predicted == labels).sum().item()\n",
    "            total += labels.size(0)\n",
    "\n",
    "            # Calculate true positives, false positives, false negatives, and true negatives\n",
    "            true_positives += ((predicted == 1) & (labels == 1)).sum().item()\n",
    "            false_positives += ((predicted == 1) & (labels == 0)).sum().item()\n",
    "            false_negatives += ((predicted == 0) & (labels == 1)).sum().item()\n",
    "            true_negatives += ((predicted == 0) & (labels == 0)).sum().item()\n",
    "\n",
    "    accuracy = 100 * correct / total\n",
    "    return {\n",
    "        'accuracy': accuracy,\n",
    "        'false_positives': false_positives,\n",
    "        'false_negatives': false_negatives,\n",
    "        'true_positives': true_positives,\n",
    "        'true_negatives': true_negatives\n",
    "    }"
   ],
   "metadata": {
    "collapsed": false,
    "ExecuteTime": {
     "end_time": "2024-04-25T02:18:22.946758800Z",
     "start_time": "2024-04-25T02:18:22.933727Z"
    }
   },
   "id": "b31857ffd59bc94",
   "execution_count": 132
  },
  {
   "cell_type": "code",
   "outputs": [
    {
     "name": "stdout",
     "output_type": "stream",
     "text": [
      "Test Metrics:\n",
      "Accuracy: 95.50%\n",
      "False Positives: 8\n",
      "False Negatives: 10\n",
      "True Positives: 186\n",
      "True Negatives: 196\n"
     ]
    }
   ],
   "source": [
    "performance_metrics = evaluate_performance(model, test_loader)\n",
    "print(f\"Test Metrics:\")\n",
    "print(f\"Accuracy: {performance_metrics['accuracy']:.2f}%\")\n",
    "print(f\"False Positives: {performance_metrics['false_positives']}\")\n",
    "print(f\"False Negatives: {performance_metrics['false_negatives']}\")\n",
    "print(f\"True Positives: {performance_metrics['true_positives']}\")\n",
    "print(f\"True Negatives: {performance_metrics['true_negatives']}\")"
   ],
   "metadata": {
    "collapsed": false,
    "ExecuteTime": {
     "end_time": "2024-04-25T02:18:22.979303400Z",
     "start_time": "2024-04-25T02:18:22.946758800Z"
    }
   },
   "id": "8046fdee0eee9858",
   "execution_count": 133
  }
 ],
 "metadata": {
  "kernelspec": {
   "display_name": "Python 3",
   "language": "python",
   "name": "python3"
  },
  "language_info": {
   "codemirror_mode": {
    "name": "ipython",
    "version": 2
   },
   "file_extension": ".py",
   "mimetype": "text/x-python",
   "name": "python",
   "nbconvert_exporter": "python",
   "pygments_lexer": "ipython2",
   "version": "2.7.6"
  }
 },
 "nbformat": 4,
 "nbformat_minor": 5
}
