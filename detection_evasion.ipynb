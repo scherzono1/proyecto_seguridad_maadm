{
 "cells": [
  {
   "cell_type": "code",
   "execution_count": 3,
   "id": "initial_id",
   "metadata": {
    "collapsed": true,
    "ExecuteTime": {
     "end_time": "2024-04-25T19:24:52.882716100Z",
     "start_time": "2024-04-25T19:24:50.765622200Z"
    }
   },
   "outputs": [],
   "source": [
    "import pandas as pd\n",
    "import torch\n",
    "from torch.utils.data import Dataset, DataLoader, random_split\n",
    "import torch.nn as nn\n",
    "import torch.optim as optim"
   ]
  },
  {
   "cell_type": "code",
   "outputs": [],
   "source": [
    "# read the data\n",
    "data_path = 'dataset_practica/'\n",
    "good_data = pd.read_csv(data_path + '2000_goodware_2018_2020_features.csv')\n",
    "# create new column to indicate the class\n",
    "good_data['class'] = 0\n",
    "bad_data = pd.read_csv(data_path + '2000_malware_2018_2020_features.csv')\n",
    "bad_data['class'] = 1"
   ],
   "metadata": {
    "collapsed": false,
    "ExecuteTime": {
     "end_time": "2024-04-25T19:24:52.976865800Z",
     "start_time": "2024-04-25T19:24:52.884722700Z"
    }
   },
   "id": "4fc6501fd3fddbb7",
   "execution_count": 4
  },
  {
   "cell_type": "code",
   "outputs": [
    {
     "data": {
      "text/plain": "                               hash                   PackageName  \\\n0  000c6c8ef16e3793674bf1bf2cb0cfdb                 com.gf.client   \n1  8e46f1e9830d46402495c0450c489673  com.blueframetech.apexsports   \n2  b28937c14945eef354bbb893f3a97c74      com.devgame66.sniperking   \n3  07c7bc0ea194ff996c4c653b6a10432a             com.auroracoopapp   \n4  334f46c3aeb57318f7a91194cc03f407    com.artha1wides.pkbm_c_new   \n\n   min_andrversion  max_andrversion  target_andrversion  \\\n0               17                0                  27   \n1               21                0                  28   \n2               17                0                  28   \n3               26                0                  29   \n4               14                0                  28   \n\n   android.permission.ACCESS_ALL_DOWNLOADS  \\\n0                                        0   \n1                                        0   \n2                                        0   \n3                                        0   \n4                                        0   \n\n   android.permission.ACCESS_BLUETOOTH_SHARE  \\\n0                                          0   \n1                                          0   \n2                                          0   \n3                                          0   \n4                                          0   \n\n   android.permission.ACCESS_CACHE_FILESYSTEM  \\\n0                                           0   \n1                                           0   \n2                                           0   \n3                                           0   \n4                                           0   \n\n   android.permission.ACCESS_CHECKIN_PROPERTIES  \\\n0                                             0   \n1                                             0   \n2                                             0   \n3                                             0   \n4                                             0   \n\n   android.permission.ACCESS_CONTENT_PROVIDERS_EXTERNALLY  ...  TextViewCount  \\\n0                                                  0       ...              0   \n1                                                  0       ...             66   \n2                                                  0       ...             50   \n3                                                  0       ...             64   \n4                                                  0       ...             50   \n\n   EditViewCount  ImageButtonCount  CheckBoxCount  RadioGroupCount  \\\n0              0                 0              0                0   \n1              3                 3              2                2   \n2              3                 3              2                0   \n3             11                14             19                1   \n4              3                 3              3                0   \n\n   RadioButtonCount  ToastCount  SpinnerCount  ListViewCount  class  \n0                 0           0             0              0      0  \n1                 3           0            40             54      0  \n2                 3           0            37             27      0  \n3                16           0            48             54      0  \n4                 3           1            46             43      0  \n\n[5 rows x 364 columns]",
      "text/html": "<div>\n<style scoped>\n    .dataframe tbody tr th:only-of-type {\n        vertical-align: middle;\n    }\n\n    .dataframe tbody tr th {\n        vertical-align: top;\n    }\n\n    .dataframe thead th {\n        text-align: right;\n    }\n</style>\n<table border=\"1\" class=\"dataframe\">\n  <thead>\n    <tr style=\"text-align: right;\">\n      <th></th>\n      <th>hash</th>\n      <th>PackageName</th>\n      <th>min_andrversion</th>\n      <th>max_andrversion</th>\n      <th>target_andrversion</th>\n      <th>android.permission.ACCESS_ALL_DOWNLOADS</th>\n      <th>android.permission.ACCESS_BLUETOOTH_SHARE</th>\n      <th>android.permission.ACCESS_CACHE_FILESYSTEM</th>\n      <th>android.permission.ACCESS_CHECKIN_PROPERTIES</th>\n      <th>android.permission.ACCESS_CONTENT_PROVIDERS_EXTERNALLY</th>\n      <th>...</th>\n      <th>TextViewCount</th>\n      <th>EditViewCount</th>\n      <th>ImageButtonCount</th>\n      <th>CheckBoxCount</th>\n      <th>RadioGroupCount</th>\n      <th>RadioButtonCount</th>\n      <th>ToastCount</th>\n      <th>SpinnerCount</th>\n      <th>ListViewCount</th>\n      <th>class</th>\n    </tr>\n  </thead>\n  <tbody>\n    <tr>\n      <th>0</th>\n      <td>000c6c8ef16e3793674bf1bf2cb0cfdb</td>\n      <td>com.gf.client</td>\n      <td>17</td>\n      <td>0</td>\n      <td>27</td>\n      <td>0</td>\n      <td>0</td>\n      <td>0</td>\n      <td>0</td>\n      <td>0</td>\n      <td>...</td>\n      <td>0</td>\n      <td>0</td>\n      <td>0</td>\n      <td>0</td>\n      <td>0</td>\n      <td>0</td>\n      <td>0</td>\n      <td>0</td>\n      <td>0</td>\n      <td>0</td>\n    </tr>\n    <tr>\n      <th>1</th>\n      <td>8e46f1e9830d46402495c0450c489673</td>\n      <td>com.blueframetech.apexsports</td>\n      <td>21</td>\n      <td>0</td>\n      <td>28</td>\n      <td>0</td>\n      <td>0</td>\n      <td>0</td>\n      <td>0</td>\n      <td>0</td>\n      <td>...</td>\n      <td>66</td>\n      <td>3</td>\n      <td>3</td>\n      <td>2</td>\n      <td>2</td>\n      <td>3</td>\n      <td>0</td>\n      <td>40</td>\n      <td>54</td>\n      <td>0</td>\n    </tr>\n    <tr>\n      <th>2</th>\n      <td>b28937c14945eef354bbb893f3a97c74</td>\n      <td>com.devgame66.sniperking</td>\n      <td>17</td>\n      <td>0</td>\n      <td>28</td>\n      <td>0</td>\n      <td>0</td>\n      <td>0</td>\n      <td>0</td>\n      <td>0</td>\n      <td>...</td>\n      <td>50</td>\n      <td>3</td>\n      <td>3</td>\n      <td>2</td>\n      <td>0</td>\n      <td>3</td>\n      <td>0</td>\n      <td>37</td>\n      <td>27</td>\n      <td>0</td>\n    </tr>\n    <tr>\n      <th>3</th>\n      <td>07c7bc0ea194ff996c4c653b6a10432a</td>\n      <td>com.auroracoopapp</td>\n      <td>26</td>\n      <td>0</td>\n      <td>29</td>\n      <td>0</td>\n      <td>0</td>\n      <td>0</td>\n      <td>0</td>\n      <td>0</td>\n      <td>...</td>\n      <td>64</td>\n      <td>11</td>\n      <td>14</td>\n      <td>19</td>\n      <td>1</td>\n      <td>16</td>\n      <td>0</td>\n      <td>48</td>\n      <td>54</td>\n      <td>0</td>\n    </tr>\n    <tr>\n      <th>4</th>\n      <td>334f46c3aeb57318f7a91194cc03f407</td>\n      <td>com.artha1wides.pkbm_c_new</td>\n      <td>14</td>\n      <td>0</td>\n      <td>28</td>\n      <td>0</td>\n      <td>0</td>\n      <td>0</td>\n      <td>0</td>\n      <td>0</td>\n      <td>...</td>\n      <td>50</td>\n      <td>3</td>\n      <td>3</td>\n      <td>3</td>\n      <td>0</td>\n      <td>3</td>\n      <td>1</td>\n      <td>46</td>\n      <td>43</td>\n      <td>0</td>\n    </tr>\n  </tbody>\n</table>\n<p>5 rows × 364 columns</p>\n</div>"
     },
     "execution_count": 5,
     "metadata": {},
     "output_type": "execute_result"
    }
   ],
   "source": [
    "good_data.head()"
   ],
   "metadata": {
    "collapsed": false,
    "ExecuteTime": {
     "end_time": "2024-04-25T19:24:53.019820500Z",
     "start_time": "2024-04-25T19:24:52.981824100Z"
    }
   },
   "id": "d839a9715da61767",
   "execution_count": 5
  },
  {
   "cell_type": "code",
   "outputs": [
    {
     "data": {
      "text/plain": "                               hash                        PackageName  \\\n0  367a147343eb9af9c94cddab76d7c246            com.qimacode.signmaster   \n1  f23bf535a96d1ccc5289749069592f42                 com.wanimal.travel   \n2  e162763edf3c9ef1071997916e0f6c32                 com.proxy.cctv28_9   \n3  3603035190703aac2851e5c8391e302c  com.proguard.camera.fabric.beauty   \n4  483b8c48184410151a4089e9101a2429        com.hopeway.cam.p2pcamplus3   \n\n   min_andrversion  max_andrversion  target_andrversion  \\\n0               16                0                  28   \n1               19                0                  28   \n2               17                0                  28   \n3               16                0                  26   \n4               16                0                  28   \n\n   android.permission.ACCESS_ALL_DOWNLOADS  \\\n0                                        0   \n1                                        0   \n2                                        0   \n3                                        0   \n4                                        0   \n\n   android.permission.ACCESS_BLUETOOTH_SHARE  \\\n0                                          0   \n1                                          0   \n2                                          0   \n3                                          0   \n4                                          0   \n\n   android.permission.ACCESS_CACHE_FILESYSTEM  \\\n0                                           0   \n1                                           0   \n2                                           0   \n3                                           0   \n4                                           0   \n\n   android.permission.ACCESS_CHECKIN_PROPERTIES  \\\n0                                             0   \n1                                             0   \n2                                             0   \n3                                             0   \n4                                             0   \n\n   android.permission.ACCESS_CONTENT_PROVIDERS_EXTERNALLY  ...  TextViewCount  \\\n0                                                  0       ...              0   \n1                                                  0       ...              0   \n2                                                  0       ...              0   \n3                                                  0       ...              0   \n4                                                  0       ...              0   \n\n   EditViewCount  ImageButtonCount  CheckBoxCount  RadioGroupCount  \\\n0              0                 0              0                0   \n1              0                 0              0                0   \n2              0                 0              0                0   \n3              0                 0              0                0   \n4              0                 0              0                0   \n\n   RadioButtonCount  ToastCount  SpinnerCount  ListViewCount  class  \n0                 0           0             0              0      1  \n1                 0           0             0              0      1  \n2                 0           0             0              0      1  \n3                 0           0             0              0      1  \n4                 0           0             0              0      1  \n\n[5 rows x 364 columns]",
      "text/html": "<div>\n<style scoped>\n    .dataframe tbody tr th:only-of-type {\n        vertical-align: middle;\n    }\n\n    .dataframe tbody tr th {\n        vertical-align: top;\n    }\n\n    .dataframe thead th {\n        text-align: right;\n    }\n</style>\n<table border=\"1\" class=\"dataframe\">\n  <thead>\n    <tr style=\"text-align: right;\">\n      <th></th>\n      <th>hash</th>\n      <th>PackageName</th>\n      <th>min_andrversion</th>\n      <th>max_andrversion</th>\n      <th>target_andrversion</th>\n      <th>android.permission.ACCESS_ALL_DOWNLOADS</th>\n      <th>android.permission.ACCESS_BLUETOOTH_SHARE</th>\n      <th>android.permission.ACCESS_CACHE_FILESYSTEM</th>\n      <th>android.permission.ACCESS_CHECKIN_PROPERTIES</th>\n      <th>android.permission.ACCESS_CONTENT_PROVIDERS_EXTERNALLY</th>\n      <th>...</th>\n      <th>TextViewCount</th>\n      <th>EditViewCount</th>\n      <th>ImageButtonCount</th>\n      <th>CheckBoxCount</th>\n      <th>RadioGroupCount</th>\n      <th>RadioButtonCount</th>\n      <th>ToastCount</th>\n      <th>SpinnerCount</th>\n      <th>ListViewCount</th>\n      <th>class</th>\n    </tr>\n  </thead>\n  <tbody>\n    <tr>\n      <th>0</th>\n      <td>367a147343eb9af9c94cddab76d7c246</td>\n      <td>com.qimacode.signmaster</td>\n      <td>16</td>\n      <td>0</td>\n      <td>28</td>\n      <td>0</td>\n      <td>0</td>\n      <td>0</td>\n      <td>0</td>\n      <td>0</td>\n      <td>...</td>\n      <td>0</td>\n      <td>0</td>\n      <td>0</td>\n      <td>0</td>\n      <td>0</td>\n      <td>0</td>\n      <td>0</td>\n      <td>0</td>\n      <td>0</td>\n      <td>1</td>\n    </tr>\n    <tr>\n      <th>1</th>\n      <td>f23bf535a96d1ccc5289749069592f42</td>\n      <td>com.wanimal.travel</td>\n      <td>19</td>\n      <td>0</td>\n      <td>28</td>\n      <td>0</td>\n      <td>0</td>\n      <td>0</td>\n      <td>0</td>\n      <td>0</td>\n      <td>...</td>\n      <td>0</td>\n      <td>0</td>\n      <td>0</td>\n      <td>0</td>\n      <td>0</td>\n      <td>0</td>\n      <td>0</td>\n      <td>0</td>\n      <td>0</td>\n      <td>1</td>\n    </tr>\n    <tr>\n      <th>2</th>\n      <td>e162763edf3c9ef1071997916e0f6c32</td>\n      <td>com.proxy.cctv28_9</td>\n      <td>17</td>\n      <td>0</td>\n      <td>28</td>\n      <td>0</td>\n      <td>0</td>\n      <td>0</td>\n      <td>0</td>\n      <td>0</td>\n      <td>...</td>\n      <td>0</td>\n      <td>0</td>\n      <td>0</td>\n      <td>0</td>\n      <td>0</td>\n      <td>0</td>\n      <td>0</td>\n      <td>0</td>\n      <td>0</td>\n      <td>1</td>\n    </tr>\n    <tr>\n      <th>3</th>\n      <td>3603035190703aac2851e5c8391e302c</td>\n      <td>com.proguard.camera.fabric.beauty</td>\n      <td>16</td>\n      <td>0</td>\n      <td>26</td>\n      <td>0</td>\n      <td>0</td>\n      <td>0</td>\n      <td>0</td>\n      <td>0</td>\n      <td>...</td>\n      <td>0</td>\n      <td>0</td>\n      <td>0</td>\n      <td>0</td>\n      <td>0</td>\n      <td>0</td>\n      <td>0</td>\n      <td>0</td>\n      <td>0</td>\n      <td>1</td>\n    </tr>\n    <tr>\n      <th>4</th>\n      <td>483b8c48184410151a4089e9101a2429</td>\n      <td>com.hopeway.cam.p2pcamplus3</td>\n      <td>16</td>\n      <td>0</td>\n      <td>28</td>\n      <td>0</td>\n      <td>0</td>\n      <td>0</td>\n      <td>0</td>\n      <td>0</td>\n      <td>...</td>\n      <td>0</td>\n      <td>0</td>\n      <td>0</td>\n      <td>0</td>\n      <td>0</td>\n      <td>0</td>\n      <td>0</td>\n      <td>0</td>\n      <td>0</td>\n      <td>1</td>\n    </tr>\n  </tbody>\n</table>\n<p>5 rows × 364 columns</p>\n</div>"
     },
     "execution_count": 6,
     "metadata": {},
     "output_type": "execute_result"
    }
   ],
   "source": [
    "bad_data.head()"
   ],
   "metadata": {
    "collapsed": false,
    "ExecuteTime": {
     "end_time": "2024-04-25T19:24:53.037820900Z",
     "start_time": "2024-04-25T19:24:53.010860300Z"
    }
   },
   "id": "b004a6eb7dfc4ed",
   "execution_count": 6
  },
  {
   "cell_type": "code",
   "outputs": [],
   "source": [
    "# mix all data into one\n",
    "data = pd.concat([good_data, bad_data], axis=0)"
   ],
   "metadata": {
    "collapsed": false,
    "ExecuteTime": {
     "end_time": "2024-04-25T19:24:53.084822200Z",
     "start_time": "2024-04-25T19:24:53.024820800Z"
    }
   },
   "id": "65d7f818fd6f6360",
   "execution_count": 7
  },
  {
   "cell_type": "code",
   "outputs": [
    {
     "data": {
      "text/plain": "                               hash                   PackageName  \\\n0  000c6c8ef16e3793674bf1bf2cb0cfdb                 com.gf.client   \n1  8e46f1e9830d46402495c0450c489673  com.blueframetech.apexsports   \n2  b28937c14945eef354bbb893f3a97c74      com.devgame66.sniperking   \n3  07c7bc0ea194ff996c4c653b6a10432a             com.auroracoopapp   \n4  334f46c3aeb57318f7a91194cc03f407    com.artha1wides.pkbm_c_new   \n\n   min_andrversion  max_andrversion  target_andrversion  \\\n0               17                0                  27   \n1               21                0                  28   \n2               17                0                  28   \n3               26                0                  29   \n4               14                0                  28   \n\n   android.permission.ACCESS_ALL_DOWNLOADS  \\\n0                                        0   \n1                                        0   \n2                                        0   \n3                                        0   \n4                                        0   \n\n   android.permission.ACCESS_BLUETOOTH_SHARE  \\\n0                                          0   \n1                                          0   \n2                                          0   \n3                                          0   \n4                                          0   \n\n   android.permission.ACCESS_CACHE_FILESYSTEM  \\\n0                                           0   \n1                                           0   \n2                                           0   \n3                                           0   \n4                                           0   \n\n   android.permission.ACCESS_CHECKIN_PROPERTIES  \\\n0                                             0   \n1                                             0   \n2                                             0   \n3                                             0   \n4                                             0   \n\n   android.permission.ACCESS_CONTENT_PROVIDERS_EXTERNALLY  ...  TextViewCount  \\\n0                                                  0       ...              0   \n1                                                  0       ...             66   \n2                                                  0       ...             50   \n3                                                  0       ...             64   \n4                                                  0       ...             50   \n\n   EditViewCount  ImageButtonCount  CheckBoxCount  RadioGroupCount  \\\n0              0                 0              0                0   \n1              3                 3              2                2   \n2              3                 3              2                0   \n3             11                14             19                1   \n4              3                 3              3                0   \n\n   RadioButtonCount  ToastCount  SpinnerCount  ListViewCount  class  \n0                 0           0             0              0      0  \n1                 3           0            40             54      0  \n2                 3           0            37             27      0  \n3                16           0            48             54      0  \n4                 3           1            46             43      0  \n\n[5 rows x 364 columns]",
      "text/html": "<div>\n<style scoped>\n    .dataframe tbody tr th:only-of-type {\n        vertical-align: middle;\n    }\n\n    .dataframe tbody tr th {\n        vertical-align: top;\n    }\n\n    .dataframe thead th {\n        text-align: right;\n    }\n</style>\n<table border=\"1\" class=\"dataframe\">\n  <thead>\n    <tr style=\"text-align: right;\">\n      <th></th>\n      <th>hash</th>\n      <th>PackageName</th>\n      <th>min_andrversion</th>\n      <th>max_andrversion</th>\n      <th>target_andrversion</th>\n      <th>android.permission.ACCESS_ALL_DOWNLOADS</th>\n      <th>android.permission.ACCESS_BLUETOOTH_SHARE</th>\n      <th>android.permission.ACCESS_CACHE_FILESYSTEM</th>\n      <th>android.permission.ACCESS_CHECKIN_PROPERTIES</th>\n      <th>android.permission.ACCESS_CONTENT_PROVIDERS_EXTERNALLY</th>\n      <th>...</th>\n      <th>TextViewCount</th>\n      <th>EditViewCount</th>\n      <th>ImageButtonCount</th>\n      <th>CheckBoxCount</th>\n      <th>RadioGroupCount</th>\n      <th>RadioButtonCount</th>\n      <th>ToastCount</th>\n      <th>SpinnerCount</th>\n      <th>ListViewCount</th>\n      <th>class</th>\n    </tr>\n  </thead>\n  <tbody>\n    <tr>\n      <th>0</th>\n      <td>000c6c8ef16e3793674bf1bf2cb0cfdb</td>\n      <td>com.gf.client</td>\n      <td>17</td>\n      <td>0</td>\n      <td>27</td>\n      <td>0</td>\n      <td>0</td>\n      <td>0</td>\n      <td>0</td>\n      <td>0</td>\n      <td>...</td>\n      <td>0</td>\n      <td>0</td>\n      <td>0</td>\n      <td>0</td>\n      <td>0</td>\n      <td>0</td>\n      <td>0</td>\n      <td>0</td>\n      <td>0</td>\n      <td>0</td>\n    </tr>\n    <tr>\n      <th>1</th>\n      <td>8e46f1e9830d46402495c0450c489673</td>\n      <td>com.blueframetech.apexsports</td>\n      <td>21</td>\n      <td>0</td>\n      <td>28</td>\n      <td>0</td>\n      <td>0</td>\n      <td>0</td>\n      <td>0</td>\n      <td>0</td>\n      <td>...</td>\n      <td>66</td>\n      <td>3</td>\n      <td>3</td>\n      <td>2</td>\n      <td>2</td>\n      <td>3</td>\n      <td>0</td>\n      <td>40</td>\n      <td>54</td>\n      <td>0</td>\n    </tr>\n    <tr>\n      <th>2</th>\n      <td>b28937c14945eef354bbb893f3a97c74</td>\n      <td>com.devgame66.sniperking</td>\n      <td>17</td>\n      <td>0</td>\n      <td>28</td>\n      <td>0</td>\n      <td>0</td>\n      <td>0</td>\n      <td>0</td>\n      <td>0</td>\n      <td>...</td>\n      <td>50</td>\n      <td>3</td>\n      <td>3</td>\n      <td>2</td>\n      <td>0</td>\n      <td>3</td>\n      <td>0</td>\n      <td>37</td>\n      <td>27</td>\n      <td>0</td>\n    </tr>\n    <tr>\n      <th>3</th>\n      <td>07c7bc0ea194ff996c4c653b6a10432a</td>\n      <td>com.auroracoopapp</td>\n      <td>26</td>\n      <td>0</td>\n      <td>29</td>\n      <td>0</td>\n      <td>0</td>\n      <td>0</td>\n      <td>0</td>\n      <td>0</td>\n      <td>...</td>\n      <td>64</td>\n      <td>11</td>\n      <td>14</td>\n      <td>19</td>\n      <td>1</td>\n      <td>16</td>\n      <td>0</td>\n      <td>48</td>\n      <td>54</td>\n      <td>0</td>\n    </tr>\n    <tr>\n      <th>4</th>\n      <td>334f46c3aeb57318f7a91194cc03f407</td>\n      <td>com.artha1wides.pkbm_c_new</td>\n      <td>14</td>\n      <td>0</td>\n      <td>28</td>\n      <td>0</td>\n      <td>0</td>\n      <td>0</td>\n      <td>0</td>\n      <td>0</td>\n      <td>...</td>\n      <td>50</td>\n      <td>3</td>\n      <td>3</td>\n      <td>3</td>\n      <td>0</td>\n      <td>3</td>\n      <td>1</td>\n      <td>46</td>\n      <td>43</td>\n      <td>0</td>\n    </tr>\n  </tbody>\n</table>\n<p>5 rows × 364 columns</p>\n</div>"
     },
     "execution_count": 8,
     "metadata": {},
     "output_type": "execute_result"
    }
   ],
   "source": [
    "data.head()"
   ],
   "metadata": {
    "collapsed": false,
    "ExecuteTime": {
     "end_time": "2024-04-25T19:24:53.124822300Z",
     "start_time": "2024-04-25T19:24:53.048821900Z"
    }
   },
   "id": "7c9406883f17dbff",
   "execution_count": 8
  },
  {
   "cell_type": "code",
   "outputs": [],
   "source": [
    "# check which columns are numerical and make a list of them\n",
    "numerical_columns = data.select_dtypes(include=['float64', 'int64']).columns\n",
    "# keep only the numerical columns\n",
    "data = data[numerical_columns]"
   ],
   "metadata": {
    "collapsed": false,
    "ExecuteTime": {
     "end_time": "2024-04-25T19:24:53.125857200Z",
     "start_time": "2024-04-25T19:24:53.055821600Z"
    }
   },
   "id": "d0e4a4ec5db6a59c",
   "execution_count": 9
  },
  {
   "cell_type": "code",
   "outputs": [
    {
     "data": {
      "text/plain": "   min_andrversion  max_andrversion  target_andrversion  \\\n0               17                0                  27   \n1               21                0                  28   \n2               17                0                  28   \n3               26                0                  29   \n4               14                0                  28   \n\n   android.permission.ACCESS_ALL_DOWNLOADS  \\\n0                                        0   \n1                                        0   \n2                                        0   \n3                                        0   \n4                                        0   \n\n   android.permission.ACCESS_BLUETOOTH_SHARE  \\\n0                                          0   \n1                                          0   \n2                                          0   \n3                                          0   \n4                                          0   \n\n   android.permission.ACCESS_CACHE_FILESYSTEM  \\\n0                                           0   \n1                                           0   \n2                                           0   \n3                                           0   \n4                                           0   \n\n   android.permission.ACCESS_CHECKIN_PROPERTIES  \\\n0                                             0   \n1                                             0   \n2                                             0   \n3                                             0   \n4                                             0   \n\n   android.permission.ACCESS_CONTENT_PROVIDERS_EXTERNALLY  \\\n0                                                  0        \n1                                                  0        \n2                                                  0        \n3                                                  0        \n4                                                  0        \n\n   android.permission.ACCESS_DOWNLOAD_MANAGER  \\\n0                                           1   \n1                                           0   \n2                                           0   \n3                                           0   \n4                                           0   \n\n   android.permission.ACCESS_DOWNLOAD_MANAGER_ADVANCED  ...  TextViewCount  \\\n0                                                  0    ...              0   \n1                                                  0    ...             66   \n2                                                  0    ...             50   \n3                                                  0    ...             64   \n4                                                  0    ...             50   \n\n   EditViewCount  ImageButtonCount  CheckBoxCount  RadioGroupCount  \\\n0              0                 0              0                0   \n1              3                 3              2                2   \n2              3                 3              2                0   \n3             11                14             19                1   \n4              3                 3              3                0   \n\n   RadioButtonCount  ToastCount  SpinnerCount  ListViewCount  class  \n0                 0           0             0              0      0  \n1                 3           0            40             54      0  \n2                 3           0            37             27      0  \n3                16           0            48             54      0  \n4                 3           1            46             43      0  \n\n[5 rows x 362 columns]",
      "text/html": "<div>\n<style scoped>\n    .dataframe tbody tr th:only-of-type {\n        vertical-align: middle;\n    }\n\n    .dataframe tbody tr th {\n        vertical-align: top;\n    }\n\n    .dataframe thead th {\n        text-align: right;\n    }\n</style>\n<table border=\"1\" class=\"dataframe\">\n  <thead>\n    <tr style=\"text-align: right;\">\n      <th></th>\n      <th>min_andrversion</th>\n      <th>max_andrversion</th>\n      <th>target_andrversion</th>\n      <th>android.permission.ACCESS_ALL_DOWNLOADS</th>\n      <th>android.permission.ACCESS_BLUETOOTH_SHARE</th>\n      <th>android.permission.ACCESS_CACHE_FILESYSTEM</th>\n      <th>android.permission.ACCESS_CHECKIN_PROPERTIES</th>\n      <th>android.permission.ACCESS_CONTENT_PROVIDERS_EXTERNALLY</th>\n      <th>android.permission.ACCESS_DOWNLOAD_MANAGER</th>\n      <th>android.permission.ACCESS_DOWNLOAD_MANAGER_ADVANCED</th>\n      <th>...</th>\n      <th>TextViewCount</th>\n      <th>EditViewCount</th>\n      <th>ImageButtonCount</th>\n      <th>CheckBoxCount</th>\n      <th>RadioGroupCount</th>\n      <th>RadioButtonCount</th>\n      <th>ToastCount</th>\n      <th>SpinnerCount</th>\n      <th>ListViewCount</th>\n      <th>class</th>\n    </tr>\n  </thead>\n  <tbody>\n    <tr>\n      <th>0</th>\n      <td>17</td>\n      <td>0</td>\n      <td>27</td>\n      <td>0</td>\n      <td>0</td>\n      <td>0</td>\n      <td>0</td>\n      <td>0</td>\n      <td>1</td>\n      <td>0</td>\n      <td>...</td>\n      <td>0</td>\n      <td>0</td>\n      <td>0</td>\n      <td>0</td>\n      <td>0</td>\n      <td>0</td>\n      <td>0</td>\n      <td>0</td>\n      <td>0</td>\n      <td>0</td>\n    </tr>\n    <tr>\n      <th>1</th>\n      <td>21</td>\n      <td>0</td>\n      <td>28</td>\n      <td>0</td>\n      <td>0</td>\n      <td>0</td>\n      <td>0</td>\n      <td>0</td>\n      <td>0</td>\n      <td>0</td>\n      <td>...</td>\n      <td>66</td>\n      <td>3</td>\n      <td>3</td>\n      <td>2</td>\n      <td>2</td>\n      <td>3</td>\n      <td>0</td>\n      <td>40</td>\n      <td>54</td>\n      <td>0</td>\n    </tr>\n    <tr>\n      <th>2</th>\n      <td>17</td>\n      <td>0</td>\n      <td>28</td>\n      <td>0</td>\n      <td>0</td>\n      <td>0</td>\n      <td>0</td>\n      <td>0</td>\n      <td>0</td>\n      <td>0</td>\n      <td>...</td>\n      <td>50</td>\n      <td>3</td>\n      <td>3</td>\n      <td>2</td>\n      <td>0</td>\n      <td>3</td>\n      <td>0</td>\n      <td>37</td>\n      <td>27</td>\n      <td>0</td>\n    </tr>\n    <tr>\n      <th>3</th>\n      <td>26</td>\n      <td>0</td>\n      <td>29</td>\n      <td>0</td>\n      <td>0</td>\n      <td>0</td>\n      <td>0</td>\n      <td>0</td>\n      <td>0</td>\n      <td>0</td>\n      <td>...</td>\n      <td>64</td>\n      <td>11</td>\n      <td>14</td>\n      <td>19</td>\n      <td>1</td>\n      <td>16</td>\n      <td>0</td>\n      <td>48</td>\n      <td>54</td>\n      <td>0</td>\n    </tr>\n    <tr>\n      <th>4</th>\n      <td>14</td>\n      <td>0</td>\n      <td>28</td>\n      <td>0</td>\n      <td>0</td>\n      <td>0</td>\n      <td>0</td>\n      <td>0</td>\n      <td>0</td>\n      <td>0</td>\n      <td>...</td>\n      <td>50</td>\n      <td>3</td>\n      <td>3</td>\n      <td>3</td>\n      <td>0</td>\n      <td>3</td>\n      <td>1</td>\n      <td>46</td>\n      <td>43</td>\n      <td>0</td>\n    </tr>\n  </tbody>\n</table>\n<p>5 rows × 362 columns</p>\n</div>"
     },
     "execution_count": 10,
     "metadata": {},
     "output_type": "execute_result"
    }
   ],
   "source": [
    "data.head()"
   ],
   "metadata": {
    "collapsed": false,
    "ExecuteTime": {
     "end_time": "2024-04-25T19:24:53.126864800Z",
     "start_time": "2024-04-25T19:24:53.079820400Z"
    }
   },
   "id": "345f1543e898f0a9",
   "execution_count": 10
  },
  {
   "cell_type": "code",
   "outputs": [],
   "source": [
    "device = 'cuda'"
   ],
   "metadata": {
    "collapsed": false,
    "ExecuteTime": {
     "end_time": "2024-04-25T19:24:53.186942300Z",
     "start_time": "2024-04-25T19:24:53.086820900Z"
    }
   },
   "id": "bf0467185d705e96",
   "execution_count": 11
  },
  {
   "cell_type": "code",
   "outputs": [],
   "source": [
    "malware_sample = data[data['class'] == 1].iloc[0]\n",
    "malware_features = torch.tensor(malware_sample[:-1].values).float().unsqueeze(0).to(device)"
   ],
   "metadata": {
    "collapsed": false,
    "ExecuteTime": {
     "end_time": "2024-04-25T19:24:56.824495600Z",
     "start_time": "2024-04-25T19:24:56.692496500Z"
    }
   },
   "id": "6d6caa40dbb8e1fc",
   "execution_count": 12
  },
  {
   "cell_type": "code",
   "outputs": [],
   "source": [
    "class MalwareClassifier(nn.Module):\n",
    "    def __init__(self):\n",
    "        super(MalwareClassifier, self).__init__()\n",
    "        self.network = nn.Sequential(\n",
    "            nn.Linear(malware_features.shape[1], 256),\n",
    "            nn.ReLU(),\n",
    "            nn.BatchNorm1d(256),                \n",
    "            nn.Dropout(0.5),                   \n",
    "\n",
    "            nn.Linear(256, 128),              \n",
    "            nn.ReLU(),\n",
    "            nn.BatchNorm1d(128),             \n",
    "            nn.Dropout(0.3),\n",
    "\n",
    "            nn.Linear(128, 64),\n",
    "            nn.ReLU(),\n",
    "            nn.BatchNorm1d(64),\n",
    "            nn.Dropout(0.2),\n",
    "\n",
    "            nn.Linear(64, 1),\n",
    "            nn.Sigmoid()\n",
    "        )\n",
    "\n",
    "    def forward(self, x):\n",
    "        return self.network(x)"
   ],
   "metadata": {
    "collapsed": false,
    "ExecuteTime": {
     "end_time": "2024-04-25T19:25:01.700487900Z",
     "start_time": "2024-04-25T19:25:01.675448700Z"
    }
   },
   "id": "def01935fa9593d9",
   "execution_count": 13
  },
  {
   "cell_type": "code",
   "outputs": [
    {
     "data": {
      "text/plain": "MalwareClassifier(\n  (network): Sequential(\n    (0): Linear(in_features=361, out_features=256, bias=True)\n    (1): ReLU()\n    (2): BatchNorm1d(256, eps=1e-05, momentum=0.1, affine=True, track_running_stats=True)\n    (3): Dropout(p=0.5, inplace=False)\n    (4): Linear(in_features=256, out_features=128, bias=True)\n    (5): ReLU()\n    (6): BatchNorm1d(128, eps=1e-05, momentum=0.1, affine=True, track_running_stats=True)\n    (7): Dropout(p=0.3, inplace=False)\n    (8): Linear(in_features=128, out_features=64, bias=True)\n    (9): ReLU()\n    (10): BatchNorm1d(64, eps=1e-05, momentum=0.1, affine=True, track_running_stats=True)\n    (11): Dropout(p=0.2, inplace=False)\n    (12): Linear(in_features=64, out_features=1, bias=True)\n    (13): Sigmoid()\n  )\n)"
     },
     "execution_count": 15,
     "metadata": {},
     "output_type": "execute_result"
    }
   ],
   "source": [
    "# Load the pre-trained model\n",
    "model_path = 'malware_classifier.pth'\n",
    "model = MalwareClassifier()\n",
    "model.load_state_dict(torch.load(model_path))\n",
    "model = model.to(device)\n",
    "model.eval()"
   ],
   "metadata": {
    "collapsed": false,
    "ExecuteTime": {
     "end_time": "2024-04-25T19:25:11.898157400Z",
     "start_time": "2024-04-25T19:25:11.855027200Z"
    }
   },
   "id": "bfcb37c3da73f628",
   "execution_count": 15
  },
  {
   "cell_type": "code",
   "outputs": [
    {
     "name": "stdout",
     "output_type": "stream",
     "text": [
      "Predicted Class: Malware\n"
     ]
    }
   ],
   "source": [
    "with torch.no_grad():\n",
    "    prediction = model(malware_features)\n",
    "    predicted_class = prediction.round().item()\n",
    "    print(\"Predicted Class:\", \"Malware\" if predicted_class == 1 else \"Goodware\")"
   ],
   "metadata": {
    "collapsed": false,
    "ExecuteTime": {
     "end_time": "2024-04-25T19:25:20.066712300Z",
     "start_time": "2024-04-25T19:25:20.001702800Z"
    }
   },
   "id": "90f51b5c00c19b2a",
   "execution_count": 16
  },
  {
   "cell_type": "code",
   "outputs": [],
   "source": [
    "modified_features = malware_features.clone().to(device)\n",
    "perturbation = torch.randn(modified_features.shape) * 0.1\n",
    "perturbation = perturbation.to(device)\n",
    "modified_features += perturbation\n",
    "modified_features = torch.clamp(modified_features, 0, 1)"
   ],
   "metadata": {
    "collapsed": false,
    "ExecuteTime": {
     "end_time": "2024-04-25T19:28:39.962832500Z",
     "start_time": "2024-04-25T19:28:39.932819500Z"
    }
   },
   "id": "be3d822d46852ac5",
   "execution_count": 19
  },
  {
   "cell_type": "code",
   "outputs": [
    {
     "name": "stdout",
     "output_type": "stream",
     "text": [
      "Modified Predicted Class: Goodware\n"
     ]
    }
   ],
   "source": [
    "# Test the modified sample\n",
    "with torch.no_grad():\n",
    "    modified_prediction = model(modified_features)\n",
    "    modified_predicted_class = modified_prediction.round().item()\n",
    "    print(\"Modified Predicted Class:\", \"Malware\" if modified_predicted_class == 1 else \"Goodware\")"
   ],
   "metadata": {
    "collapsed": false,
    "ExecuteTime": {
     "end_time": "2024-04-25T19:28:41.673454200Z",
     "start_time": "2024-04-25T19:28:41.661453500Z"
    }
   },
   "id": "e4c7b6ae6a777e9f",
   "execution_count": 20
  }
 ],
 "metadata": {
  "kernelspec": {
   "display_name": "Python 3",
   "language": "python",
   "name": "python3"
  },
  "language_info": {
   "codemirror_mode": {
    "name": "ipython",
    "version": 2
   },
   "file_extension": ".py",
   "mimetype": "text/x-python",
   "name": "python",
   "nbconvert_exporter": "python",
   "pygments_lexer": "ipython2",
   "version": "2.7.6"
  }
 },
 "nbformat": 4,
 "nbformat_minor": 5
}
